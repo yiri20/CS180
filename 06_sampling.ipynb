{
  "cells": [
    {
      "cell_type": "markdown",
      "metadata": {
        "id": "view-in-github",
        "colab_type": "text"
      },
      "source": [
        "<a href=\"https://colab.research.google.com/github/yiri20/CS180/blob/main/06_sampling.ipynb\" target=\"_parent\"><img src=\"https://colab.research.google.com/assets/colab-badge.svg\" alt=\"Open In Colab\"/></a>"
      ]
    },
    {
      "cell_type": "markdown",
      "metadata": {
        "id": "jNmerXDk3dkF"
      },
      "source": [
        "<a href=\"https://colab.research.google.com/github/rhodes-byu/cs180-winter25/blob/main/notebooks/06-sampling.ipynb\" target=\"_parent\"><img src=\"https://colab.research.google.com/assets/colab-badge.svg\" alt=\"Open In Colab\"/></a><p><b>After clicking the \"Open in Colab\" link, copy the notebook to your own Google Drive before getting started, or it will not save your work</b></p>"
      ]
    },
    {
      "cell_type": "markdown",
      "metadata": {
        "id": "Xwrww67_y_Tr"
      },
      "source": [
        "# Data Sampling"
      ]
    },
    {
      "cell_type": "code",
      "execution_count": null,
      "metadata": {
        "id": "SH-X3fSl3dkI"
      },
      "outputs": [],
      "source": [
        "import numpy as np\n",
        "import pandas as pd\n",
        "import seaborn as sns\n",
        "import matplotlib.pyplot as plt"
      ]
    },
    {
      "cell_type": "markdown",
      "metadata": {
        "id": "dm_E9AsB3dkJ"
      },
      "source": [
        "## 1. Random Sampling"
      ]
    },
    {
      "cell_type": "markdown",
      "metadata": {
        "id": "szspyv3UzFMO"
      },
      "source": [
        "### Random Sampling from a List or Array (Using NumPy)\n",
        "* `replace = False` means sampling without replacement (no repeated elements).\n",
        "* `replace = True` would allow repeated elements in the sample."
      ]
    },
    {
      "cell_type": "code",
      "execution_count": null,
      "metadata": {
        "id": "SZEHqXfqysaM"
      },
      "outputs": [],
      "source": [
        "# Using NumPy\n",
        "np.random.seed(42) # Set for reproducibility\n",
        "\n",
        "data = np.array([10, 20, 30, 40, 50, 60, 70, 80])\n",
        "\n",
        "# Randomly sample 3 elements from the array\n",
        "sample = np.random.choice(data, size=3, replace=False)  # Without replacement\n",
        "\n",
        "print(\"Sample:\", sample)"
      ]
    },
    {
      "cell_type": "markdown",
      "metadata": {
        "id": "2hFi2kiuy4YA"
      },
      "source": [
        "### Random Sampling with Pandas DataFrame\n",
        "* `n` specifies the number of rows to sample.\n",
        "* You can also use frac to specify the fraction of the DataFrame to sample, e.g., `df.sample(frac = 0.5)` for 50% of rows."
      ]
    },
    {
      "cell_type": "code",
      "execution_count": null,
      "metadata": {
        "id": "Cre-1XvEzNCY"
      },
      "outputs": [],
      "source": [
        "# Sampling using Pandas\n",
        "data = {'A': np.arange(1, 101),\n",
        "        'B': np.arange(10, 1010, 10)}\n",
        "\n",
        "df = pd.DataFrame(data)\n",
        "df.head()\n"
      ]
    },
    {
      "cell_type": "code",
      "execution_count": null,
      "metadata": {
        "id": "oa1n0Q0p3dkK"
      },
      "outputs": [],
      "source": [
        "# Sample by number of samples\n",
        "sample_df = df.sample(n = 10).sort_index()\n",
        "\n",
        "# By fraction of samples\n",
        "# sample_df = df.sample(frac = 0.1).sort_index()\n",
        "\n",
        "\n",
        "print(sample_df)"
      ]
    },
    {
      "cell_type": "markdown",
      "metadata": {
        "id": "pKAQ-CAgzZBO"
      },
      "source": [
        "## 3. Stratified Sampling\n",
        "\n",
        "Stratified sampling ensures that each class or group within the data is proportionally represented in the sample. This is particularly useful when dealing with imbalanced datasets. For stratified sampling, you can use Scikit-learn’s StratifiedShuffleSplit. This is especially useful when working with classification problems where you want to maintain the same proportion of classes."
      ]
    },
    {
      "cell_type": "markdown",
      "metadata": {
        "id": "_5y11A0C3dkL"
      },
      "source": [
        "### Stratified Sampling with Sklearn\n",
        "Here, stratify=y ensures that the train and test sets will have the same class proportions as the original dataset."
      ]
    },
    {
      "cell_type": "code",
      "execution_count": null,
      "metadata": {
        "id": "eLu5zLq2zTl7"
      },
      "outputs": [],
      "source": [
        "from sklearn.model_selection import train_test_split\n",
        "\n",
        "# Example dataset with labels (class imbalance)\n",
        "X = np.random.normal(loc = 70, scale = 10, size = 100)\n",
        "y = np.where(X >= 85, 1, 0)\n",
        "\n",
        "print('Proportion of class 0:', len(y[y == 0]) / len(y))"
      ]
    },
    {
      "cell_type": "code",
      "execution_count": null,
      "metadata": {
        "id": "bRavaZxz3dkL"
      },
      "outputs": [],
      "source": [
        "print(np.round(X))"
      ]
    },
    {
      "cell_type": "code",
      "execution_count": null,
      "metadata": {
        "id": "nFj06FB-3dkL"
      },
      "outputs": [],
      "source": [
        "print(y)"
      ]
    },
    {
      "cell_type": "code",
      "execution_count": null,
      "metadata": {
        "id": "S0mRHnQB3dkM"
      },
      "outputs": [],
      "source": [
        "X_train, X_test, y_train, y_test = train_test_split(X, y, test_size = .1, random_state = 42)"
      ]
    },
    {
      "cell_type": "code",
      "execution_count": null,
      "metadata": {
        "id": "9iJ7ZjfV3dkM"
      },
      "outputs": [],
      "source": [
        "print(\"Mean of y_train:\", np.mean(y_train) * 100)\n",
        "print(\"Mean of y_test:\", np.mean(y_test) * 100)"
      ]
    },
    {
      "cell_type": "code",
      "execution_count": null,
      "metadata": {
        "id": "IWSvJ21V3dkM"
      },
      "outputs": [],
      "source": [
        "# Stratified sampling\n",
        "X_train, X_test, y_train, y_test = train_test_split(X, y, test_size = .1, random_state = 42, stratify = y)"
      ]
    },
    {
      "cell_type": "code",
      "execution_count": null,
      "metadata": {
        "id": "HEABvHmk3dkM"
      },
      "outputs": [],
      "source": [
        "print(\"Mean of y_train:\", np.mean(y_train) * 100)\n",
        "print(\"Mean of y_test:\", np.mean(y_test) * 100)"
      ]
    },
    {
      "cell_type": "code",
      "execution_count": null,
      "metadata": {
        "id": "fPH83lxC3dkM"
      },
      "outputs": [],
      "source": [
        "print('Proportion of 0s in population: ', len(y[y == 0]) / len(y))\n",
        "print('Proportion of 0s in sample: ', len(y_train[y_train == 0]) / len(y_train))\n",
        "print('Proportion of 0s in test: ', len(y_test[y_test == 0]) / len(y_test))"
      ]
    },
    {
      "cell_type": "markdown",
      "metadata": {
        "id": "G3X_YGWc4F1B"
      },
      "source": [
        "### Stratified sampling with Pandas\n",
        "Here, groupby('label') ensures that the sampling is stratified by the label, and sample(frac=0.3) samples 30% from each group."
      ]
    },
    {
      "cell_type": "code",
      "execution_count": null,
      "metadata": {
        "id": "gTacWb5b4Ddv"
      },
      "outputs": [],
      "source": [
        "# An imbalanced dataframe\n",
        "df = pd.DataFrame({\n",
        "    'feature': np.random.randn(100),\n",
        "    'label': np.random.choice([0, 1], size=100, p=[0.9, 0.1])  # 90% of class 0, 10% of class 1\n",
        "})\n",
        "# Stratified sampling\n",
        "stratified_sample = df.groupby('label', group_keys = False).apply(lambda x: x.sample(frac=0.3, random_state=42)).sort_index()"
      ]
    },
    {
      "cell_type": "code",
      "execution_count": null,
      "metadata": {
        "id": "SFJD2mEV3dkM"
      },
      "outputs": [],
      "source": [
        "stratified_sample"
      ]
    },
    {
      "cell_type": "code",
      "execution_count": null,
      "metadata": {
        "id": "2NqwAJr13dkM"
      },
      "outputs": [],
      "source": [
        "fig, axes = plt.subplots(1, 2, figsize=(12, 6))\n",
        "\n",
        "sns.countplot(ax=axes[0], x='label', data=df)\n",
        "axes[0].set_title('Countplot of Full Dataset')\n",
        "\n",
        "sns.countplot(ax=axes[1], x='label', data=stratified_sample)\n",
        "axes[1].set_title('Countplot of Stratified Sample')\n",
        "\n",
        "plt.tight_layout()\n",
        "plt.show()\n"
      ]
    },
    {
      "cell_type": "markdown",
      "metadata": {
        "id": "h0xOxvSqzyc-"
      },
      "source": [
        "## 4. Systematic Sampling\n",
        "\n",
        "You can manually implement systematic sampling by selecting every $k-th$ element from a dataset."
      ]
    },
    {
      "cell_type": "code",
      "execution_count": null,
      "metadata": {
        "id": "aujCNrIyz8Dd"
      },
      "outputs": [],
      "source": [
        "# Systematic sampling (every kth element)\n",
        "data = np.array([1, 2, 3, 4, 5, 6, 7, 8, 9, 10])\n",
        "\n",
        "# Define step size k\n",
        "k = 2\n",
        "systematic_sample = data[::k]  # Select every kth element\n",
        "\n",
        "print(\"Systematic Sample:\", systematic_sample)"
      ]
    }
  ],
  "metadata": {
    "colab": {
      "provenance": [],
      "include_colab_link": true
    },
    "kernelspec": {
      "display_name": "base",
      "language": "python",
      "name": "python3"
    },
    "language_info": {
      "codemirror_mode": {
        "name": "ipython",
        "version": 3
      },
      "file_extension": ".py",
      "mimetype": "text/x-python",
      "name": "python",
      "nbconvert_exporter": "python",
      "pygments_lexer": "ipython3",
      "version": "3.11.4"
    }
  },
  "nbformat": 4,
  "nbformat_minor": 0
}